{
  "nbformat": 4,
  "nbformat_minor": 0,
  "metadata": {
    "colab": {
      "name": "M3_Actividad.ipynb",
      "provenance": [],
      "collapsed_sections": []
    },
    "kernelspec": {
      "name": "python3",
      "display_name": "Python 3"
    },
    "language_info": {
      "name": "python"
    }
  },
  "cells": [
    {
      "cell_type": "markdown",
      "metadata": {
        "id": "QZRK2w4rDCn0"
      },
      "source": [
        "# Herramienta para la implementación de sistemas multiagentes\n",
        "Carlos Moisés Chávez Jiménez A01637322\n",
        "09/11/2021\n",
        "\n",
        "## Descripción del código\n",
        "Simulación de la limpieza de una habitación utilizando sistemas multiagentes\n",
        "\n",
        "### Instalación de la librería agentpy"
      ]
    },
    {
      "cell_type": "code",
      "metadata": {
        "id": "Yn25xzfjDCZs"
      },
      "source": [
        "!pip install agentpy"
      ],
      "execution_count": null,
      "outputs": []
    },
    {
      "cell_type": "markdown",
      "metadata": {
        "id": "N1J__MOXDIuy"
      },
      "source": [
        "### Importamos las librerías a utilizar"
      ]
    },
    {
      "cell_type": "code",
      "metadata": {
        "id": "piSmzS-ZDQrX"
      },
      "source": [
        "# Model design\n",
        "import agentpy as ap\n",
        "\n",
        "# Visualization\n",
        "import matplotlib.pyplot as plt\n",
        "import seaborn as sns\n",
        "import IPython"
      ],
      "execution_count": null,
      "outputs": []
    }
  ]
}